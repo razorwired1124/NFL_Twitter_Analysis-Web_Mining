{
 "cells": [
  {
   "cell_type": "code",
   "execution_count": 1,
   "metadata": {},
   "outputs": [
    {
     "name": "stdout",
     "output_type": "stream",
     "text": [
      "Input your account name on Twitter: Patriots\n",
      "Number of followers: 4446108 \n"
     ]
    }
   ],
   "source": [
    "from bs4 import BeautifulSoup\n",
    "import requests\n",
    "handle = input('Input your account name on Twitter: ') \n",
    "temp = requests.get('https://twitter.com/'+handle)\n",
    "bs = BeautifulSoup(temp.text,'lxml')\n",
    "try:\n",
    "    follow_box = bs.find('li',{'class':'ProfileNav-item ProfileNav-item--followers'})\n",
    "    followers = follow_box.find('a').find('span',{'class':'ProfileNav-value'})\n",
    "    print(\"Number of followers: {} \".format(followers.get('data-count')))\n",
    "except:\n",
    "    print('Account name not found...')"
   ]
  },
  {
   "cell_type": "markdown",
   "metadata": {},
   "source": [
    "Input your account name on Twitter: Patriots<br/>\n",
    "Number of followers: 4446030<br/>\n",
    "\n",
    "Input your account name on Twitter:  MiamiDolphins<br/>\n",
    "Number of followers: 989340<br/>\n",
    "\n",
    "Input your account name on Twitter:  buffalobills<br/>\n",
    "Number of followers: 981916<br/>\n",
    "\n",
    "Input your account name on Twitter:  nyjets<br/>\n",
    "Number of followers: 1222479<br/>\n",
    "\n",
    "Input your account name on Twitter:  Ravens<br/>\n",
    "Number of followers: 1456224<br/>\n",
    "\n",
    "Input your account name on Twitter:  steelers<br/>\n",
    "Number of followers: 3423502<br/> \n",
    "\n",
    "Input your account name on Twitter:  Browns<br/>\n",
    "Number of followers: 1198285<br/> \n",
    "\n",
    "Input your account name on Twitter:  Bengals<br/>\n",
    "Number of followers: 827867<br/> \n",
    "\n",
    "Input your account name on Twitter:  HoustonTexans<br/>\n",
    "Number of followers: 1859151<br/> \n",
    "\n",
    "Input your account name on Twitter:  Colts<br/>\n",
    "Number of followers: 1029521<br/> \n",
    "\n",
    "Input your account name on Twitter:  Titans<br/>\n",
    "Number of followers: 755070<br/> \n",
    "\n",
    "Input your account name on Twitter:  Jaguars<br/>\n",
    "Number of followers: 659909<br/> \n",
    "\n",
    "Input your account name on Twitter:  Chiefs<br/>\n",
    "Number of followers: 1277876<br/> \n",
    "\n",
    "Input your account name on Twitter:  Raiders<br/>\n",
    "Number of followers: 1602736<br/>\n",
    "\n",
    "Input your account name on Twitter:  Chargers<br/>\n",
    "Number of followers: 839844<br/> \n",
    "\n",
    "Input your account name on Twitter:  Broncos<br/>\n",
    "Number of followers: 2639205<br/> \n",
    "\n",
    "Input your account name on Twitter:  dallascowboys<br/>\n",
    "Number of followers: 3795103<br/>\n",
    "\n",
    "Input your account name on Twitter:  Eagles<br/>\n",
    "Number of followers: 3424277<br/>\n",
    "\n",
    "Input your account name on Twitter:  Redskins<br/>\n",
    "Number of followers: 1247331<br/>\n",
    "\n",
    "Input your account name on Twitter:  Giants<br/>\n",
    "Number of followers: 1815939<br/>\n",
    "\n",
    "Input your account name on Twitter:  ChicagoBears<br/>\n",
    "Number of followers: 1754554<br/>\n",
    "\n",
    "Input your account name on Twitter:  Vikings<br/>\n",
    "Number of followers: 1282729<br/>\n",
    "\n",
    "Input your account name on Twitter:  packers<br/>\n",
    "Number of followers: 2219726<br/>\n",
    "\n",
    "Input your account name on Twitter:  Lions<br/>\n",
    "Number of followers: 1344276<br/>\n",
    "\n",
    "Input your account name on Twitter:  Saints<br/>\n",
    "Number of followers: 1390527<br/>\n",
    "\n",
    "Input your account name on Twitter:  AtlantaFalcons<br/>\n",
    "Number of followers: 2343996<br/>\n",
    "\n",
    "Input your account name on Twitter:  Panthers<br/>\n",
    "Number of followers: 3014170<br/>\n",
    "\n",
    "Input your account name on Twitter:  Buccaneers<br/>\n",
    "Number of followers: 768203<br/>\n",
    "\n",
    "Input your account name on Twitter:  RamsNFL<br/>\n",
    "Number of followers: 843035<br/>\n",
    "\n",
    "Input your account name on Twitter:  Seahawks<br/>\n",
    "Number of followers: 2355021<br/>\n",
    "\n",
    "Input your account name on Twitter:  49ers<br/>\n",
    "Number of followers: 2062316<br/>\n",
    "\n",
    "Input your account name on Twitter:  AZCardinals<br/>\n",
    "Number of followers: 916934<br/>"
   ]
  },
  {
   "cell_type": "code",
   "execution_count": 5,
   "metadata": {},
   "outputs": [],
   "source": [
    "import numpy as np\n",
    "from matplotlib import pyplot as plt\n",
    "%matplotlib inline"
   ]
  },
  {
   "cell_type": "code",
   "execution_count": 6,
   "metadata": {},
   "outputs": [
    {
     "data": {
      "text/plain": [
       "array([0, 1, 2, 3, 4])"
      ]
     },
     "execution_count": 6,
     "metadata": {},
     "output_type": "execute_result"
    }
   ],
   "source": [
    "\n",
    "x_axis = ['Patriots', 'Steelers', 'Cowboys', 'Eagles', 'Panthers']\n",
    "y_axis = [4446030,3423503,3795103,3424277, 3014170]\n",
    "\n",
    "ind = np.arange(len(x_axis))\n",
    "ind"
   ]
  },
  {
   "cell_type": "code",
   "execution_count": 7,
   "metadata": {},
   "outputs": [
    {
     "data": {
      "text/plain": [
       "([<matplotlib.axis.XTick at 0x27d5a3737b8>,\n",
       "  <matplotlib.axis.XTick at 0x27d5a3730f0>,\n",
       "  <matplotlib.axis.XTick at 0x27d5a276ef0>,\n",
       "  <matplotlib.axis.XTick at 0x27d5a39b668>,\n",
       "  <matplotlib.axis.XTick at 0x27d5a39bb00>],\n",
       " <a list of 5 Text xticklabel objects>)"
      ]
     },
     "execution_count": 7,
     "metadata": {},
     "output_type": "execute_result"
    },
    {
     "data": {
      "image/png": "[encoded data removed]",
      "text/plain": [
       "<Figure size 432x288 with 1 Axes>"
      ]
     },
     "metadata": {},
     "output_type": "display_data"
    }
   ],
   "source": [
    "plt.bar(ind, y_axis)\n",
    "plt.xticks(ind, x_axis)"
   ]
  },
  {
   "cell_type": "code",
   "execution_count": 11,
   "metadata": {},
   "outputs": [],
   "source": [
    "import numpy as np\n",
    "from matplotlib import pyplot as plt\n",
    "%matplotlib inline"
   ]
  },
  {
   "cell_type": "code",
   "execution_count": 12,
   "metadata": {},
   "outputs": [
    {
     "data": {
      "text/plain": [
       "array([0, 1, 2, 3, 4])"
      ]
     },
     "execution_count": 12,
     "metadata": {},
     "output_type": "execute_result"
    }
   ],
   "source": [
    "x_axis = ['Buccaneers', 'Jaguars', 'Titans', 'Bengals', 'Chargers']\n",
    "y_axis = [768203,659909,755070,827867, 839844]\n",
    "\n",
    "ind = np.arange(len(x_axis))\n",
    "ind"
   ]
  },
  {
   "cell_type": "code",
   "execution_count": 13,
   "metadata": {},
   "outputs": [
    {
     "data": {
      "text/plain": [
       "([<matplotlib.axis.XTick at 0x27d5a431710>,\n",
       "  <matplotlib.axis.XTick at 0x27d5a431080>,\n",
       "  <matplotlib.axis.XTick at 0x27d5a40d240>,\n",
       "  <matplotlib.axis.XTick at 0x27d5a457630>,\n",
       "  <matplotlib.axis.XTick at 0x27d5a457ac8>],\n",
       " <a list of 5 Text xticklabel objects>)"
      ]
     },
     "execution_count": 13,
     "metadata": {},
     "output_type": "execute_result"
    },
    {
     "data": {
      "image/png": "[encoded data removed]",
      "text/plain": [
       "<Figure size 432x288 with 1 Axes>"
      ]
     },
     "metadata": {},
     "output_type": "display_data"
    }
   ],
   "source": [
    "plt.bar(ind, y_axis)\n",
    "plt.xticks(ind, x_axis)"
   ]
  },
  {
   "cell_type": "code",
   "execution_count": null,
   "metadata": {},
   "outputs": [],
   "source": []
  }
 ],
 "metadata": {
  "kernelspec": {
   "display_name": "Python 3 (Spyder)",
   "language": "python3",
   "name": "python3"
  },
  "language_info": {
   "codemirror_mode": {
    "name": "ipython",
    "version": 3
   },
   "file_extension": ".py",
   "mimetype": "text/x-python",
   "name": "python",
   "nbconvert_exporter": "python",
   "pygments_lexer": "ipython3",
   "version": "3.7.1"
  }
 },
 "nbformat": 4,
 "nbformat_minor": 2
}
